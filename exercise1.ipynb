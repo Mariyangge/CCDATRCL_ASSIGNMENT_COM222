{
  "cells": [
    {
      "cell_type": "markdown",
      "metadata": {
        "id": "h2vFiYhGzZOg"
      },
      "source": [
        "# Exercise 1"
      ]
    },
    {
      "cell_type": "markdown",
      "source": [
        "## Class Initialization"
      ],
      "metadata": {
        "id": "sRm6kPQozcaU"
      }
    },
    {
      "cell_type": "code",
      "execution_count": null,
      "metadata": {
        "id": "b1u4Dt9mzZOi"
      },
      "outputs": [],
      "source": [
        "class Node:\n",
        "    def __init__(self, data):\n",
        "        self.data = data\n",
        "        self.next = None\n",
        "        self.prev = None"
      ]
    },
    {
      "cell_type": "code",
      "execution_count": null,
      "metadata": {
        "id": "tigvHSaHzZOj"
      },
      "outputs": [],
      "source": [
        "class LinkedList:\n",
        "\n",
        "    def __init__(self):\n",
        "        self.head = None\n",
        "\n",
        "    def traverse(self, node):\n",
        "        while node:\n",
        "            print(node.data, end=\" -> \")\n",
        "            node = node.next"
      ]
    },
    {
      "cell_type": "code",
      "execution_count": null,
      "metadata": {
        "id": "LIkQBioVzZOk"
      },
      "outputs": [],
      "source": [
        "class DoublyLinkedList:\n",
        "\n",
        "    def __init__(self):\n",
        "        self.head = None\n",
        "\n",
        "    def traverse(self, node):\n",
        "        while node:\n",
        "            print(node.data, end=\" -> \")\n",
        "            node = node.next"
      ]
    },
    {
      "cell_type": "code",
      "execution_count": null,
      "metadata": {
        "id": "zlxNT5EozZOl"
      },
      "outputs": [],
      "source": [
        "class CircularLinkedList:\n",
        "\n",
        "    def __init__(self):\n",
        "        self.head = None\n",
        "\n",
        "    def traverse(self, node):\n",
        "\n",
        "        head = node\n",
        "\n",
        "        while node:\n",
        "            print(node.data, end=\" -> \")\n",
        "            node = node.next\n",
        "\n",
        "            # Break to prevent infinite loop\n",
        "            if node == head:\n",
        "                break"
      ]
    },
    {
      "cell_type": "markdown",
      "metadata": {
        "id": "O68-Q1-bzZOl"
      },
      "source": [
        "#### 1. Create a Singly Linked list\n",
        "\n",
        "- Each node should contain your name and your seatmates in your row\n",
        "- Create at least 5 nodes\n",
        "- Traverse all nodes"
      ]
    },
    {
      "cell_type": "code",
      "execution_count": 6,
      "metadata": {
        "id": "pTcx_OuPzZOl",
        "colab": {
          "base_uri": "https://localhost:8080/"
        },
        "outputId": "803df1b8-9fea-4b95-f446-826ec1391efd"
      },
      "outputs": [
        {
          "output_type": "stream",
          "name": "stdout",
          "text": [
            "Maria Bea Nicole Nocum  >  Marcelino Gatchalian III  >  Aaron Chua  >  Tehrence Llenarez  >  Mark Joshua Rivera\n"
          ]
        }
      ],
      "source": [
        "class Node:\n",
        "    def __init__(yangge,data):\n",
        "        yangge.data = data\n",
        "        yangge.next = None\n",
        "        yangge.prev = None\n",
        "\n",
        "class Linkedlist:\n",
        "    def __init__(yangge):\n",
        "        yangge.head = None\n",
        "\n",
        "    def traverse(yangge):\n",
        "        node = yangge.head\n",
        "        while node:\n",
        "            if node.next is not None:\n",
        "                print(node.data, end=\"  >  \")\n",
        "            else:\n",
        "                print(node.data)\n",
        "            node = node.next\n",
        "\n",
        "\n",
        "nowd = Linkedlist()\n",
        "nowd.head = Node (\"Maria Bea Nicole Nocum\")\n",
        "nowd2 = Node (\"Marcelino Gatchalian III\")\n",
        "nowd3 = Node (\"Aaron Chua\")\n",
        "nowd4 = Node(\"Tehrence Llenarez\")\n",
        "nowd5 = Node(\"Mark Joshua Rivera\")\n",
        "\n",
        "nowd.head.next = nowd2\n",
        "nowd2.next = nowd3\n",
        "nowd3.next = nowd4\n",
        "nowd4.next = nowd5\n",
        "\n",
        "\n",
        "nowd.traverse()"
      ]
    },
    {
      "cell_type": "markdown",
      "metadata": {
        "id": "IFgwbdw_zZOm"
      },
      "source": [
        "#### 2. Create a Doubly Linked list\n",
        "\n",
        "- Each node should contain your name and your seatmates in your row\n",
        "- Create at least 5 nodes\n",
        "- Traverse all nodes"
      ]
    },
    {
      "cell_type": "code",
      "execution_count": 7,
      "metadata": {
        "id": "8kQD2A_QzZOm",
        "colab": {
          "base_uri": "https://localhost:8080/"
        },
        "outputId": "26f02509-6dd1-4fe2-aeb4-766d5a672a20"
      },
      "outputs": [
        {
          "output_type": "stream",
          "name": "stdout",
          "text": [
            "Maria Bea Nicole Nocum  >  Marcelino Gatchalian III  >  Aaron Chua  >  Tehrence Llenarez  >  Mark Joshua Rivera\n"
          ]
        }
      ],
      "source": [
        "class Node:\n",
        "    def __init__(yangge,data):\n",
        "        yangge.data = data\n",
        "        yangge.next = None\n",
        "        yangge.prev = None\n",
        "\n",
        "class DoublyLinkedList:\n",
        "    def __init__(yangge):\n",
        "        yangge.head = None\n",
        "\n",
        "    def traverse(yangge):\n",
        "        node = yangge.head\n",
        "        while node:\n",
        "            if node.next is not None:\n",
        "                print(node.data, end=\"  >  \")\n",
        "            else:\n",
        "                print(node.data)\n",
        "            node = node.next\n",
        "\n",
        "nowd = DoublyLinkedList()\n",
        "nowd.head = Node (\"Maria Bea Nicole Nocum\")\n",
        "nowd1 = Node (\"Marcelino Gatchalian III\")\n",
        "nowd2 = Node (\"Aaron Chua\")\n",
        "nowd3 = Node(\"Tehrence Llenarez\")\n",
        "nowd4 = Node(\"Mark Joshua Rivera\")\n",
        "\n",
        "nowd.head.next = nowd1\n",
        "nowd1.prev = nowd.head.next\n",
        "\n",
        "nowd1.next = nowd2\n",
        "nowd2.prev = nowd1\n",
        "\n",
        "nowd2.next = nowd3\n",
        "nowd3.prev = nowd2\n",
        "\n",
        "nowd3.next = nowd4\n",
        "nowd4.prev = nowd3\n",
        "\n",
        "nowd.traverse()\n"
      ]
    },
    {
      "cell_type": "markdown",
      "metadata": {
        "id": "rtApbsCjzZOm"
      },
      "source": [
        "#### 3. Create a Circular Linked list\n",
        "\n",
        "- Each node should contain your name and your seatmates in your row\n",
        "- Create at least 5 nodes\n",
        "- Traverse all nodes"
      ]
    },
    {
      "cell_type": "code",
      "execution_count": null,
      "metadata": {
        "id": "Gp1Oiq0jzZOn"
      },
      "outputs": [],
      "source": [
        "class Node:\n",
        "    def __init__(yangge,data):\n",
        "        yangge.data = data\n",
        "        yangge.next = None\n",
        "        yangge.prev = None\n",
        "\n",
        "\n",
        "class CircularLinkedList:\n",
        "\n",
        "    def __init__(yangge):\n",
        "        yangge.head = None\n",
        "\n",
        "    def traverse(yangge,node):\n",
        "        head = node\n",
        "        while node:\n",
        "            if node.next is not None:\n",
        "                print(node.data, end=\"  >  \")\n",
        "            node = node.next\n",
        "\n",
        "            if node == head:\n",
        "                break\n",
        "\n",
        "nowd = CircularLinkedList()\n",
        "nowd.head = Node (\"Maria Bea Nicole Nocum\")\n",
        "nowd1 = Node (\"Marcelino Gatchalian III\")\n",
        "nowd2 = Node (\"Aaron Chua\")\n",
        "nowd3 = Node(\"Tehrence Llenarez\")\n",
        "nowd4 = Node(\"Mark Joshua Rivera\")\n",
        "\n",
        "nowd.head.next = nowd1\n",
        "nowd1.prev = nowd.head\n",
        "\n",
        "nowd1.next = nowd2\n",
        "nowd2.prev = nowd1\n",
        "\n",
        "nowd2.next = nowd3\n",
        "nowd3.prev = nowd2\n",
        "\n",
        "nowd3.next = nowd4\n",
        "nowd4.prev = nowd3\n",
        "\n",
        "nowd4.next = nowd.head\n",
        "\n",
        "nowd.traverse(nowd.head)\n",
        "\n"
      ]
    }
  ],
  "metadata": {
    "kernelspec": {
      "display_name": "Python 3",
      "language": "python",
      "name": "python3"
    },
    "language_info": {
      "name": "python",
      "version": "3.11.4"
    },
    "orig_nbformat": 4,
    "colab": {
      "provenance": []
    }
  },
  "nbformat": 4,
  "nbformat_minor": 0
}