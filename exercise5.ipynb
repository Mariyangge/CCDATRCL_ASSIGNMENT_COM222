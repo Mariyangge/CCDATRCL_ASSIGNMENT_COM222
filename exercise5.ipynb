{
  "cells": [
    {
      "cell_type": "markdown",
      "metadata": {
        "id": "5no1lwo5mUTh"
      },
      "source": [
        "# Exercise 5"
      ]
    },
    {
      "cell_type": "markdown",
      "metadata": {
        "id": "-Ws9XQeAmUTl"
      },
      "source": [
        "#### 1. Create a dictionary of your 10 favorite songs."
      ]
    },
    {
      "cell_type": "markdown",
      "metadata": {
        "id": "VpMGVTUkmUTl"
      },
      "source": [
        "Example:\n",
        "\n",
        "|KEY|VALUE|\n",
        "|---|---|\n",
        "|001|My Love|\n",
        "|002|Like a rose|"
      ]
    },
    {
      "cell_type": "code",
      "execution_count": 7,
      "metadata": {
        "id": "ffMCxmdsmUTm",
        "outputId": "25b76918-a826-4ec6-d7fe-2d632bf35461",
        "colab": {
          "base_uri": "https://localhost:8080/"
        }
      },
      "outputs": [
        {
          "output_type": "execute_result",
          "data": {
            "text/plain": [
              "{'001': 'Given-Taken',\n",
              " '002': 'Let Me In',\n",
              " '003': 'Drunk-Dazed',\n",
              " '004': 'FEVER',\n",
              " '005': 'Tamed-Dash',\n",
              " '006': \"Upper Side Dreamin'\",\n",
              " '007': 'Future Perfect (Pass the MIC)',\n",
              " '008': 'Paradoxx Invasion',\n",
              " '009': 'Bite Me',\n",
              " '010': 'Sacrifice (Eat Me Up)'}"
            ]
          },
          "metadata": {},
          "execution_count": 7
        }
      ],
      "source": [
        "enha = {\n",
        "  \"001\": \"Given-Taken\",\n",
        "  \"002\": \"Let Me In\",\n",
        "  \"003\": \"Drunk-Dazed\",\n",
        "  \"004\": \"FEVER\",\n",
        "  \"005\": \"Tamed-Dash\",\n",
        "  \"006\": \"Upper Side Dreamin'\",\n",
        "  \"007\": \"Future Perfect (Pass the MIC)\",\n",
        "  \"008\": \"Paradoxx Invasion\",\n",
        "  \"009\": \"Bite Me\",\n",
        "  \"010\": \"Sacrifice (Eat Me Up)\" }\n",
        "\n",
        "\n",
        "enha"
      ]
    },
    {
      "cell_type": "markdown",
      "metadata": {
        "id": "IQ_DQsZtmUTo"
      },
      "source": [
        "#### 2. Loop through the dictionary by its **key** and **value**"
      ]
    },
    {
      "cell_type": "code",
      "execution_count": 14,
      "metadata": {
        "id": "iVvlCvBimUTo",
        "outputId": "e7a09dae-2d68-4459-b56d-e62ad31227bb",
        "colab": {
          "base_uri": "https://localhost:8080/"
        }
      },
      "outputs": [
        {
          "output_type": "stream",
          "name": "stdout",
          "text": [
            "001 Given-Taken\n",
            "002 Let Me In\n",
            "003 Drunk-Dazed\n",
            "004 FEVER\n",
            "005 Tamed-Dash\n",
            "006 Upper Side Dreamin'\n",
            "007 Future Perfect (Pass the MIC)\n",
            "008 Paradoxx Invasion\n",
            "009 Bite Me\n",
            "010 Sacrifice (Eat Me Up)\n"
          ]
        }
      ],
      "source": [
        "for x,y in enha.items():\n",
        " print(x,y)"
      ]
    },
    {
      "cell_type": "markdown",
      "metadata": {
        "id": "7tMcNk9nmUTo"
      },
      "source": [
        "#### 3. Add one additional song"
      ]
    },
    {
      "cell_type": "code",
      "execution_count": 15,
      "metadata": {
        "id": "lav49UwCmUTp",
        "outputId": "c4dd7bfa-e506-4935-b978-b72d286f51b3",
        "colab": {
          "base_uri": "https://localhost:8080/"
        }
      },
      "outputs": [
        {
          "output_type": "execute_result",
          "data": {
            "text/plain": [
              "{'001': 'Given-Taken',\n",
              " '002': 'Let Me In',\n",
              " '003': 'Drunk-Dazed',\n",
              " '004': 'FEVER',\n",
              " '005': 'Tamed-Dash',\n",
              " '006': \"Upper Side Dreamin'\",\n",
              " '007': 'Future Perfect (Pass the MIC)',\n",
              " '008': 'Paradoxx Invasion',\n",
              " '009': 'Bite Me',\n",
              " '010': 'Sacrifice (Eat Me Up)',\n",
              " '011': 'CRIMINAL LOVE'}"
            ]
          },
          "metadata": {},
          "execution_count": 15
        }
      ],
      "source": [
        "enha[\"011\"] = \"CRIMINAL LOVE\"\n",
        "enha"
      ]
    },
    {
      "cell_type": "markdown",
      "metadata": {
        "id": "DGpw7HFKmUTp"
      },
      "source": [
        "#### 4. Remove one song"
      ]
    },
    {
      "cell_type": "code",
      "execution_count": 16,
      "metadata": {
        "id": "3Elc-cCKmUTq",
        "outputId": "207a9a3d-c51c-4371-cbd6-285c1416f663",
        "colab": {
          "base_uri": "https://localhost:8080/"
        }
      },
      "outputs": [
        {
          "output_type": "execute_result",
          "data": {
            "text/plain": [
              "{'001': 'Given-Taken',\n",
              " '002': 'Let Me In',\n",
              " '003': 'Drunk-Dazed',\n",
              " '004': 'FEVER',\n",
              " '006': \"Upper Side Dreamin'\",\n",
              " '007': 'Future Perfect (Pass the MIC)',\n",
              " '008': 'Paradoxx Invasion',\n",
              " '009': 'Bite Me',\n",
              " '010': 'Sacrifice (Eat Me Up)',\n",
              " '011': 'CRIMINAL LOVE'}"
            ]
          },
          "metadata": {},
          "execution_count": 16
        }
      ],
      "source": [
        "enha.pop(\"005\")\n",
        "enha"
      ]
    },
    {
      "cell_type": "markdown",
      "metadata": {
        "id": "sLGjUNyWmUTq"
      },
      "source": [
        "#### 5. Create a nested dictionary of your 10 favorite songs with 5 genres. Display all of the items of the nested dictionary\n",
        "\n",
        "- Each nested dictionary's key should be the genre of the song\n",
        "- Put each song in their respective genre"
      ]
    },
    {
      "cell_type": "markdown",
      "metadata": {
        "id": "mErwxqLhmUTq"
      },
      "source": [
        "Example:\n",
        "\n",
        "\n",
        "|KEY|VALUE|\n",
        "|---|---|\n",
        "|Pop|{001, Baby}|\n",
        "|Rock|{001, Enter Sandman}|"
      ]
    },
    {
      "cell_type": "code",
      "execution_count": 22,
      "metadata": {
        "id": "e3KI0_AfmUTr",
        "outputId": "164b6cff-8023-4ca8-8719-522fd14c76da",
        "colab": {
          "base_uri": "https://localhost:8080/"
        }
      },
      "outputs": [
        {
          "output_type": "execute_result",
          "data": {
            "text/plain": [
              "{'R&B': {'001': 'urs', '002': 'Pick Up Your Feelings'},\n",
              " 'Pop-Punk': {'001': 'Ignorance', '002': 'This is Gospel'},\n",
              " 'Heavy Metal': {'001': 'Nightmare', '002': 'Nympethamine'},\n",
              " 'Rock': {'001': 'Misery Business', '002': 'Decode'},\n",
              " 'Country': {'001': 'Traveling Soldier', '002': 'When I Die Young'}}"
            ]
          },
          "metadata": {},
          "execution_count": 22
        }
      ],
      "source": [
        "yanggesb = {\n",
        "  \"R&B\" : {\n",
        "    \"001\" : \"urs\",\n",
        "    \"002\" : \"Pick Up Your Feelings\",\n",
        "  },\n",
        "  \"Pop-Punk\" : {\n",
        "    \"001\" : \"Ignorance\",\n",
        "    \"002\" : \"This is Gospel\",\n",
        "  },\n",
        "  \"Heavy Metal\" : {\n",
        "    \"001\" : \"Nightmare\",\n",
        "    \"002\" : \"Nympethamine\"\n",
        "  },\n",
        "   \"Rock\" : {\n",
        "    \"001\" : \"Misery Business\",\n",
        "    \"002\" : \"Decode\"\n",
        "  },\n",
        "   \"Country\" : {\n",
        "    \"001\" : \"Traveling Soldier\",\n",
        "    \"002\" : \"When I Die Young\"\n",
        "  },\n",
        "\n",
        "}\n",
        "\n",
        "yanggesb"
      ]
    },
    {
      "cell_type": "markdown",
      "metadata": {
        "id": "4Hm55qzXmUTr"
      },
      "source": [
        "#### 6. Print the first song of the first genre"
      ]
    },
    {
      "cell_type": "code",
      "execution_count": 21,
      "metadata": {
        "id": "gIFKjIOZmUTr",
        "outputId": "97420919-b392-48f9-c180-0c9e9effd4bc",
        "colab": {
          "base_uri": "https://localhost:8080/"
        }
      },
      "outputs": [
        {
          "output_type": "stream",
          "name": "stdout",
          "text": [
            "urs\n"
          ]
        }
      ],
      "source": [
        "print(yanggesb[\"R&B\"][\"001\"])"
      ]
    },
    {
      "cell_type": "markdown",
      "metadata": {
        "id": "6jIAX3sOmUTr"
      },
      "source": [
        "#### 7. Print the first song of the last genre"
      ]
    },
    {
      "cell_type": "code",
      "execution_count": 23,
      "metadata": {
        "id": "2HOBWx0VmUTr",
        "outputId": "51738401-5b70-42c6-bc77-b914d9276c03",
        "colab": {
          "base_uri": "https://localhost:8080/"
        }
      },
      "outputs": [
        {
          "output_type": "stream",
          "name": "stdout",
          "text": [
            "Traveling Soldier\n"
          ]
        }
      ],
      "source": [
        "print(yanggesb[\"Country\"][\"001\"])"
      ]
    }
  ],
  "metadata": {
    "kernelspec": {
      "display_name": "Python 3",
      "language": "python",
      "name": "python3"
    },
    "language_info": {
      "codemirror_mode": {
        "name": "ipython",
        "version": 3
      },
      "file_extension": ".py",
      "mimetype": "text/x-python",
      "name": "python",
      "nbconvert_exporter": "python",
      "pygments_lexer": "ipython3",
      "version": "3.11.4"
    },
    "orig_nbformat": 4,
    "colab": {
      "provenance": []
    }
  },
  "nbformat": 4,
  "nbformat_minor": 0
}