{
  "cells": [
    {
      "cell_type": "markdown",
      "metadata": {
        "id": "5snwTG0edZW5"
      },
      "source": [
        "# Exercise 3"
      ]
    },
    {
      "cell_type": "markdown",
      "metadata": {
        "id": "BCYuHFTjdZW8"
      },
      "source": [
        "#### Pre-defined classes"
      ]
    },
    {
      "cell_type": "markdown",
      "metadata": {
        "id": "JMsCkMgwdZW8"
      },
      "source": [
        "Pre-defined Queue class"
      ]
    },
    {
      "cell_type": "code",
      "execution_count": 173,
      "metadata": {
        "id": "-daDI4EJdZW9"
      },
      "outputs": [],
      "source": [
        "class Queue:\n",
        "    def __init__(self):\n",
        "        self.queue = []\n",
        "\n",
        "    # Add an element\n",
        "    def enqueue(self, item):\n",
        "        self.queue.append(item)\n",
        "\n",
        "    # Remove an element\n",
        "    def dequeue(self):\n",
        "        if len(self.queue) < 1:\n",
        "            return None\n",
        "        return self.queue.pop(0)\n",
        "\n",
        "    # Display  the queue\n",
        "    def display(self):\n",
        "        print(self.queue)\n",
        "\n",
        "    def size(self):\n",
        "        return len(self.queue)\n",
        "\n",
        "    def peek(self):\n",
        "        return self.queue[0]\n"
      ]
    },
    {
      "cell_type": "markdown",
      "metadata": {
        "id": "FXb8p2m7dZW-"
      },
      "source": [
        "Pre-defined Deque class"
      ]
    },
    {
      "cell_type": "code",
      "execution_count": 174,
      "metadata": {
        "id": "SlNUk0PfdZW-"
      },
      "outputs": [],
      "source": [
        "class Deque:\n",
        "    def __init__(self):\n",
        "        self.items = []\n",
        "\n",
        "    def isEmpty(self):\n",
        "        return self.items == []\n",
        "\n",
        "    def addRear(self, item):\n",
        "        self.items.append(item)\n",
        "\n",
        "    def addFront(self, item):\n",
        "        self.items.insert(0, item)\n",
        "\n",
        "    def removeFront(self):\n",
        "        return self.items.pop(0)\n",
        "\n",
        "    def removeRear(self):\n",
        "        return self.items.pop()\n",
        "\n",
        "    def size(self):\n",
        "        return len(self.items)"
      ]
    },
    {
      "cell_type": "markdown",
      "metadata": {
        "id": "pGmhq3cpdZW_"
      },
      "source": [
        "Pre-defined Circular Queue class"
      ]
    },
    {
      "cell_type": "code",
      "execution_count": 175,
      "metadata": {
        "id": "FPt2fpVYdZW_"
      },
      "outputs": [],
      "source": [
        "class CircularQueue():\n",
        "\n",
        "    def __init__(self, k):\n",
        "        self.k = k\n",
        "        self.queue = [None] * k\n",
        "        self.head = self.tail = -1\n",
        "\n",
        "    # Insert an element into the circular queue\n",
        "    def enqueue(self, data):\n",
        "\n",
        "        if ((self.tail + 1) % self.k == self.head):\n",
        "            print(\"The circular queue is full\\n\")\n",
        "\n",
        "        elif (self.head == -1):\n",
        "            self.head = 0\n",
        "            self.tail = 0\n",
        "            self.queue[self.tail] = data\n",
        "        else:\n",
        "            self.tail = (self.tail + 1) % self.k\n",
        "            self.queue[self.tail] = data\n",
        "\n",
        "    # Delete an element from the circular queue\n",
        "    def dequeue(self):\n",
        "        if (self.head == -1):\n",
        "            print(\"The circular queue is empty\\n\")\n",
        "\n",
        "        elif (self.head == self.tail):\n",
        "            temp = self.queue[self.head]\n",
        "            self.head = -1\n",
        "            self.tail = -1\n",
        "            return temp\n",
        "        else:\n",
        "            temp = self.queue[self.head]\n",
        "            self.head = (self.head + 1) % self.k\n",
        "            return temp\n",
        "\n",
        "    def printCQueue(self):\n",
        "        if(self.head == -1):\n",
        "            print(\"No element in the circular queue\")\n",
        "\n",
        "        elif (self.tail >= self.head):\n",
        "            for i in range(self.head, self.tail + 1):\n",
        "                print(self.queue[i], end=\" \")\n",
        "            print()\n",
        "        else:\n",
        "            for i in range(self.head, self.k):\n",
        "                print(self.queue[i], end=\" \")\n",
        "            for i in range(0, self.tail + 1):\n",
        "                print(self.queue[i], end=\" \")\n",
        "            print()\n"
      ]
    },
    {
      "cell_type": "markdown",
      "metadata": {
        "id": "qkbHCMjodZW_"
      },
      "source": [
        "Pre-defined Priority Queue Class"
      ]
    },
    {
      "cell_type": "code",
      "execution_count": 176,
      "metadata": {
        "id": "LNGY4j38dZXA"
      },
      "outputs": [],
      "source": [
        "class PriorityQueueNode:\n",
        "    def __init__(self, value, pr):\n",
        "\n",
        "        self.data = value\n",
        "        self.priority = pr\n",
        "        self.next = None"
      ]
    },
    {
      "cell_type": "code",
      "execution_count": 177,
      "metadata": {
        "id": "si6gEyFodZXA"
      },
      "outputs": [],
      "source": [
        "class PriorityQueue:\n",
        "\n",
        "\tdef __init__(self):\n",
        "\n",
        "\t\tself.front = None\n",
        "\n",
        "\t# Method to check Priority Queue is Empty\n",
        "\t# or not if Empty then it will return True\n",
        "\t# Otherwise False\n",
        "\tdef isEmpty(self):\n",
        "\n",
        "\t\treturn True if self.front == None else False\n",
        "\n",
        "\t# Method to add items in Priority Queue\n",
        "\t# According to their priority value\n",
        "\tdef push(self, value, priority):\n",
        "\n",
        "\t\t# Condition check for checking Priority\n",
        "\t\t# Queue is empty or not\n",
        "\t\tif self.isEmpty() == True:\n",
        "\n",
        "\t\t\t# Creating a new node and assigning\n",
        "\t\t\t# it to class variable\n",
        "\t\t\tself.front = PriorityQueueNode(value, priority)\n",
        "\n",
        "\t\t\t# Returning 1 for successful execution\n",
        "\t\t\treturn 1\n",
        "\n",
        "\t\telse:\n",
        "\n",
        "\t\t\t# Special condition check to see that\n",
        "\t\t\t# first node priority value\n",
        "\t\t\tif self.front.priority > priority:\n",
        "\t\t\t\t# Creating a new node\n",
        "\t\t\t\tnewNode = PriorityQueueNode(value, priority)\n",
        "\t\t\t\t# Updating the new node next value\n",
        "\t\t\t\tnewNode.next = self.front\n",
        "\n",
        "\t\t\t\t# Assigning it to self.front\n",
        "\t\t\t\tself.front = newNode\n",
        "\n",
        "\t\t\t\t# Returning 1 for successful execution\n",
        "\t\t\t\treturn 1\n",
        "\n",
        "\t\t\telse:\n",
        "\n",
        "\t\t\t\t# Traversing through Queue until it\n",
        "\t\t\t\t# finds the next smaller priority node\n",
        "\t\t\t\ttemp = self.front\n",
        "\n",
        "\t\t\t\twhile temp.next:\n",
        "\t\t\t\t\t# If same priority node found then current\n",
        "\t\t\t\t\t# node will come after previous node\n",
        "\t\t\t\t\tif priority <= temp.next.priority:\n",
        "\t\t\t\t\t\tbreak\n",
        "\n",
        "\t\t\t\t\ttemp = temp.next\n",
        "\n",
        "\t\t\t\tnewNode = PriorityQueueNode(value, priority)\n",
        "\t\t\t\tnewNode.next = temp.next\n",
        "\t\t\t\ttemp.next = newNode\n",
        "\n",
        "\t\t\t\t# Returning 1 for successful execution\n",
        "\t\t\t\treturn 1\n",
        "\n",
        "\t# Method to remove high priority item\n",
        "\t# from the Priority Queue\n",
        "\tdef pop(self):\n",
        "\n",
        "\t\t# Condition check for checking\n",
        "\t\t# Priority Queue is empty or not\n",
        "\t\tif self.isEmpty() == True:\n",
        "\t\t\treturn\n",
        "\t\telse:\n",
        "\t\t\t# Removing high priority node from\n",
        "\t\t\t# Priority Queue, and updating front\n",
        "\t\t\t# with next node\n",
        "\t\t\tself.front = self.front.next\n",
        "\t\t\treturn 1\n",
        "\n",
        "\t# Method to return high priority node\n",
        "\t# value Not removing it\n",
        "\tdef peek(self):\n",
        "\t\t# Condition check for checking Priority\n",
        "\t\t# Queue is empty or not\n",
        "\t\tif self.isEmpty() == True:\n",
        "\t\t\treturn\n",
        "\t\telse:\n",
        "\t\t\treturn self.front.data\n",
        "\n",
        "\t# Method to Traverse through Priority\n",
        "\t# Queue\n",
        "\tdef traverse(self):\n",
        "\t\t# Condition check for checking Priority\n",
        "\t\t# Queue is empty or not\n",
        "\t\tif self.isEmpty() == True:\n",
        "\t\t\treturn \"Queue is Empty!\"\n",
        "\t\telse:\n",
        "\t\t\ttemp = self.front\n",
        "\t\t\twhile temp:\n",
        "\t\t\t\tprint(temp.data, end=\" \")\n",
        "\t\t\t\ttemp = temp.next\n"
      ]
    },
    {
      "cell_type": "markdown",
      "metadata": {
        "id": "vNQrk6VBdZXA"
      },
      "source": [
        "#### 1. Create a Queue\n",
        "\n",
        "- Each element should contain your name and your other classmates\n",
        "- There should be at least 5 elements in the queue\n",
        "- Put yourself at the end of the queue\n",
        "- Print all elements in the queue"
      ]
    },
    {
      "cell_type": "code",
      "execution_count": 178,
      "metadata": {
        "id": "G00monm7dZXA"
      },
      "outputs": [],
      "source": [
        "Neym = Queue()\n",
        "\n",
        "Neym.enqueue(\"Gatchalian\")\n",
        "Neym.enqueue(\"Chua\")\n",
        "Neym.enqueue(\"Llenarez\")\n",
        "Neym.enqueue(\"Rivera\")\n",
        "Neym.enqueue(\"Nocum\")"
      ]
    },
    {
      "cell_type": "code",
      "source": [
        "Neym.display()"
      ],
      "metadata": {
        "id": "2r6Mcc9ceBF1",
        "outputId": "c464f06a-a7cf-49ba-9414-cbce7fb18b26",
        "colab": {
          "base_uri": "https://localhost:8080/"
        }
      },
      "execution_count": 179,
      "outputs": [
        {
          "output_type": "stream",
          "name": "stdout",
          "text": [
            "['Gatchalian', 'Chua', 'Llenarez', 'Rivera', 'Nocum']\n"
          ]
        }
      ]
    },
    {
      "cell_type": "markdown",
      "metadata": {
        "id": "vkQZGbU7dZXB"
      },
      "source": [
        "#### 2. Create a Deque\n",
        "\n",
        "Given the queue below,\n",
        "\n",
        "**Queue:**\n",
        "\n",
        "| Cat | Dog | Rabbit | Bird | Hamster\n",
        "| --- | --- | --- | --- | --- |\n",
        "\n",
        "**dequeue** each element and insert them into a **Deque** in the following order below:\n",
        "\n",
        "**Deque:**\n",
        "\n",
        "| Hamster | Bird | Rabbit | Dog | Cat\n",
        "| --- | --- | --- | --- | --- |\n",
        "\n",
        "**Expected output:**\n",
        "\n",
        "['Hamster','Bird', 'Rabbit', 'Dog', 'Cat']"
      ]
    },
    {
      "cell_type": "code",
      "execution_count": 180,
      "metadata": {
        "id": "2Hhqb72bdZXB"
      },
      "outputs": [],
      "source": [
        "pet = Queue()\n",
        "pets = Deque()\n",
        "\n",
        "\n",
        "pet.enqueue(\"Cat\")\n",
        "pet.enqueue(\"Dog\")\n",
        "pet.enqueue(\"Rabbit\")\n",
        "pet.enqueue(\"Bird\")\n",
        "pet.enqueue(\"Hamster\")"
      ]
    },
    {
      "cell_type": "code",
      "source": [
        "pet.display()"
      ],
      "metadata": {
        "id": "XHEvvjoVhn-F",
        "outputId": "4a8d70a5-d66c-40f7-d22d-bea604c4fa82",
        "colab": {
          "base_uri": "https://localhost:8080/"
        }
      },
      "execution_count": 181,
      "outputs": [
        {
          "output_type": "stream",
          "name": "stdout",
          "text": [
            "['Cat', 'Dog', 'Rabbit', 'Bird', 'Hamster']\n"
          ]
        }
      ]
    },
    {
      "cell_type": "code",
      "source": [
        "pets.addFront(pet.dequeue())\n",
        "pets.addFront(pet.dequeue())\n",
        "pets.addFront(pet.dequeue())\n",
        "pets.addFront(pet.dequeue())\n",
        "pets.addFront(pet.dequeue())"
      ],
      "metadata": {
        "id": "uaa0GIxhheGi"
      },
      "execution_count": 182,
      "outputs": []
    },
    {
      "cell_type": "code",
      "source": [
        "print(pets.items)"
      ],
      "metadata": {
        "id": "e0jFkDWcgrBU",
        "outputId": "40e247b2-3e3a-48af-956f-0e5dc0e51f34",
        "colab": {
          "base_uri": "https://localhost:8080/"
        }
      },
      "execution_count": 183,
      "outputs": [
        {
          "output_type": "stream",
          "name": "stdout",
          "text": [
            "['Hamster', 'Bird', 'Rabbit', 'Dog', 'Cat']\n"
          ]
        }
      ]
    },
    {
      "cell_type": "markdown",
      "metadata": {
        "id": "WtBzqc1ddZXB"
      },
      "source": [
        "#### 3. Create a Circular Queue\n",
        "\n",
        "Given the queue below,\n",
        "\n",
        "**Queue:**\n",
        "\n",
        "| I | II | III | IV | V | VI | VII | VIII | IX | X | XI | XII\n",
        "| --- | --- | --- | --- | --- | --- | --- | --- | --- | --- | --- | --- |\n",
        "\n",
        "**dequeue** each element and insert them into a **Circular Deque** in the following order below:\n",
        "\n",
        "**Circular Queue:**\n",
        "\n",
        "<img src=\"clock.jpg\"/>\n",
        "\n",
        "**Expected output:**\n",
        "\n",
        "I II III IV V VI VII VIII IX X XI XII"
      ]
    },
    {
      "cell_type": "code",
      "execution_count": 184,
      "metadata": {
        "id": "YXn5UO5HdZXB"
      },
      "outputs": [],
      "source": [
        "roman = Queue()\n",
        "\n",
        "roman.enqueue('I')\n",
        "roman.enqueue('II')\n",
        "roman.enqueue('III')\n",
        "roman.enqueue('IV')\n",
        "roman.enqueue('V')\n",
        "roman.enqueue('VI')\n",
        "roman.enqueue('VII')\n",
        "roman.enqueue('VIII')\n",
        "roman.enqueue('IX')\n",
        "roman.enqueue('X')\n",
        "roman.enqueue('XI')\n",
        "roman.enqueue('XII')"
      ]
    },
    {
      "cell_type": "code",
      "source": [
        "clock = CircularQueue(12)\n",
        "\n",
        "clock.enqueue(roman.dequeue())\n",
        "clock.enqueue(roman.dequeue())\n",
        "clock.enqueue(roman.dequeue())\n",
        "clock.enqueue(roman.dequeue())\n",
        "clock.enqueue(roman.dequeue())\n",
        "clock.enqueue(roman.dequeue())\n",
        "clock.enqueue(roman.dequeue())\n",
        "clock.enqueue(roman.dequeue())\n",
        "clock.enqueue(roman.dequeue())\n",
        "clock.enqueue(roman.dequeue())\n",
        "clock.enqueue(roman.dequeue())\n",
        "clock.enqueue(roman.dequeue())"
      ],
      "metadata": {
        "id": "DYj5QXs3iJ9s"
      },
      "execution_count": 185,
      "outputs": []
    },
    {
      "cell_type": "code",
      "source": [
        "clock.printCQueue()"
      ],
      "metadata": {
        "id": "LrQdfn8yiNrh",
        "outputId": "376b56f7-8719-4032-e4a1-b19174a2be7b",
        "colab": {
          "base_uri": "https://localhost:8080/"
        }
      },
      "execution_count": 186,
      "outputs": [
        {
          "output_type": "stream",
          "name": "stdout",
          "text": [
            "I II III IV V VI VII VIII IX X XI XII \n"
          ]
        }
      ]
    },
    {
      "cell_type": "markdown",
      "metadata": {
        "id": "q3-IwIbWdZXB"
      },
      "source": [
        "#### 4. Create a Priority Queue\n",
        "\n",
        "Given the queue below,\n",
        "\n",
        "**Queue:**\n",
        "\n",
        "| Cat | Dog | Rabbit | Bird | Hamster\n",
        "| --- | --- | --- | --- | --- |\n",
        "\n",
        "\n",
        "**dequeue** each element and insert them into a **Priority Queue** with the following priority values\n",
        "\n",
        "**Priority Queue:**\n",
        "\n",
        "| Element | Priority |\n",
        "| --- | --- |\n",
        "| Hamster |  0 |\n",
        "| Bird |  1 |\n",
        "| Rabbit |  2 |\n",
        "| Dog |  3 |\n",
        "| Cat |  4 |\n",
        "\n",
        "**Expected output:**\n",
        "\n",
        "Hamster Bird Rabbit Dog Cat"
      ]
    },
    {
      "cell_type": "code",
      "execution_count": 187,
      "metadata": {
        "id": "IVhN-88IdZXB"
      },
      "outputs": [],
      "source": [
        "nimal = Queue()\n",
        "\n",
        "nimal.enqueue(\"Cat\")\n",
        "nimal.enqueue(\"Dog\")\n",
        "nimal.enqueue(\"Rabbit\")\n",
        "nimal.enqueue(\"Bird\")\n",
        "nimal.enqueue(\"Hamster\")\n"
      ]
    },
    {
      "cell_type": "code",
      "source": [
        "first = PriorityQueue()\n",
        "\n",
        "first.push(nimal.dequeue(),4)\n",
        "first.push(nimal.dequeue(),3)\n",
        "first.push(nimal.dequeue(),2)\n",
        "first.push(nimal.dequeue(),1)\n",
        "first.push(nimal.dequeue(),0)"
      ],
      "metadata": {
        "id": "0O6C-v17lKZe",
        "outputId": "507b6135-375a-4d93-a82f-1052670b43b7",
        "colab": {
          "base_uri": "https://localhost:8080/"
        }
      },
      "execution_count": 188,
      "outputs": [
        {
          "output_type": "execute_result",
          "data": {
            "text/plain": [
              "1"
            ]
          },
          "metadata": {},
          "execution_count": 188
        }
      ]
    },
    {
      "cell_type": "code",
      "source": [
        "first.traverse()"
      ],
      "metadata": {
        "id": "N1AcqB1Mlnrb",
        "outputId": "8c416d7b-483f-4772-fce3-ad7ae361aa83",
        "colab": {
          "base_uri": "https://localhost:8080/"
        }
      },
      "execution_count": 189,
      "outputs": [
        {
          "output_type": "stream",
          "name": "stdout",
          "text": [
            "Hamster Bird Rabbit Dog Cat "
          ]
        }
      ]
    },
    {
      "cell_type": "markdown",
      "metadata": {
        "id": "rYhop16ndZXB"
      },
      "source": [
        "#### 5. Create a Sorted Circular Queue\n",
        "\n",
        "Given the queue below,\n",
        "\n",
        "**Queue:**\n",
        "\n",
        "| 1 | 5 | 3 | 2 | 7 | 8 | 10 | 11 | 6 | 4 | 12 | 9\n",
        "| --- | --- | --- | --- | --- | --- | --- | --- | --- | --- | --- | --- |\n",
        "\n",
        "\n",
        "**dequeue** each element and insert them into a **Circular Queue** in the following order below:\n",
        "\n",
        "**Circular Queue:**\n",
        "\n",
        "<img src=\"clock1.png\"/>\n",
        "\n",
        "**Expected output:**\n",
        "\n",
        "1 2 3 4 5 6 7 8 9 10 11 12"
      ]
    },
    {
      "cell_type": "code",
      "execution_count": 190,
      "metadata": {
        "id": "rTNpjHL1dZXB"
      },
      "outputs": [],
      "source": [
        "num = Queue()\n",
        "\n",
        "num.enqueue('1')\n",
        "num.enqueue('5')\n",
        "num.enqueue('3')\n",
        "num.enqueue('2')\n",
        "num.enqueue('7')\n",
        "num.enqueue('8')\n",
        "num.enqueue('10')\n",
        "num.enqueue('11')\n",
        "num.enqueue('6')\n",
        "num.enqueue('4')\n",
        "num.enqueue('12')\n",
        "num.enqueue('9')"
      ]
    },
    {
      "cell_type": "code",
      "source": [
        "prio = PriorityQueue()\n",
        "\n",
        "prio.push(num.dequeue(),0)\n",
        "prio.push(num.dequeue(),4)\n",
        "prio.push(num.dequeue(),2)\n",
        "prio.push(num.dequeue(),1)\n",
        "prio.push(num.dequeue(),6)\n",
        "prio.push(num.dequeue(),7)\n",
        "prio.push(num.dequeue(),9)\n",
        "prio.push(num.dequeue(),10)\n",
        "prio.push(num.dequeue(),5)\n",
        "prio.push(num.dequeue(),3)\n",
        "prio.push(num.dequeue(),11)\n",
        "prio.push(num.dequeue(),8)"
      ],
      "metadata": {
        "id": "rKAvABtXmNmS",
        "outputId": "f1462179-1d2d-4221-f169-4ae8cfd9c02c",
        "colab": {
          "base_uri": "https://localhost:8080/"
        }
      },
      "execution_count": 191,
      "outputs": [
        {
          "output_type": "execute_result",
          "data": {
            "text/plain": [
              "1"
            ]
          },
          "metadata": {},
          "execution_count": 191
        }
      ]
    },
    {
      "cell_type": "code",
      "source": [
        "circle = CircularQueue(12)\n",
        "\n",
        "circle.enqueue(prio.peek())\n",
        "prio.pop()\n",
        "circle.enqueue(prio.peek())\n",
        "prio.pop()\n",
        "circle.enqueue(prio.peek())\n",
        "prio.pop()\n",
        "circle.enqueue(prio.peek())\n",
        "prio.pop()\n",
        "circle.enqueue(prio.peek())\n",
        "prio.pop()\n",
        "circle.enqueue(prio.peek())\n",
        "prio.pop()\n",
        "circle.enqueue(prio.peek())\n",
        "prio.pop()\n",
        "circle.enqueue(prio.peek())\n",
        "prio.pop()\n",
        "circle.enqueue(prio.peek())\n",
        "prio.pop()\n",
        "circle.enqueue(prio.peek())\n",
        "prio.pop()\n",
        "circle.enqueue(prio.peek())\n",
        "prio.pop()\n",
        "circle.enqueue(prio.peek())\n",
        "prio.pop()"
      ],
      "metadata": {
        "id": "yKR5EvTEmc5v",
        "outputId": "03e54d02-9aa2-4e17-f5a6-799cc5bddaef",
        "colab": {
          "base_uri": "https://localhost:8080/"
        }
      },
      "execution_count": 192,
      "outputs": [
        {
          "output_type": "execute_result",
          "data": {
            "text/plain": [
              "1"
            ]
          },
          "metadata": {},
          "execution_count": 192
        }
      ]
    },
    {
      "cell_type": "code",
      "source": [
        "circle.enqueue(prio.peek())\n",
        "prio.pop()"
      ],
      "metadata": {
        "id": "HMKqmvnbn-BG",
        "outputId": "13903552-f250-4900-a0bb-3153e0d9e1f2",
        "colab": {
          "base_uri": "https://localhost:8080/"
        }
      },
      "execution_count": 193,
      "outputs": [
        {
          "output_type": "stream",
          "name": "stdout",
          "text": [
            "The circular queue is full\n",
            "\n"
          ]
        }
      ]
    },
    {
      "cell_type": "code",
      "source": [
        "circle.printCQueue()"
      ],
      "metadata": {
        "id": "lcGWl8T5nv_p",
        "outputId": "480d4e22-3b52-440e-9143-6ed89bedbdbd",
        "colab": {
          "base_uri": "https://localhost:8080/"
        }
      },
      "execution_count": 194,
      "outputs": [
        {
          "output_type": "stream",
          "name": "stdout",
          "text": [
            "1 2 3 4 5 6 7 8 9 10 11 12 \n"
          ]
        }
      ]
    }
  ],
  "metadata": {
    "kernelspec": {
      "display_name": "Python 3",
      "language": "python",
      "name": "python3"
    },
    "language_info": {
      "codemirror_mode": {
        "name": "ipython",
        "version": 3
      },
      "file_extension": ".py",
      "mimetype": "text/x-python",
      "name": "python",
      "nbconvert_exporter": "python",
      "pygments_lexer": "ipython3",
      "version": "3.9.13"
    },
    "orig_nbformat": 4,
    "colab": {
      "provenance": []
    }
  },
  "nbformat": 4,
  "nbformat_minor": 0
}