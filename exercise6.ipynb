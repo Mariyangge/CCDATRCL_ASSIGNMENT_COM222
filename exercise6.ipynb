{
  "cells": [
    {
      "cell_type": "markdown",
      "metadata": {
        "id": "fiFxai5HGsZH"
      },
      "source": [
        "# Exercise 6"
      ]
    },
    {
      "cell_type": "markdown",
      "metadata": {
        "id": "u4AUM9E4GsZR"
      },
      "source": [
        "#### Pre-defined code"
      ]
    },
    {
      "cell_type": "code",
      "execution_count": 45,
      "metadata": {
        "id": "HzYwWzP3GsZT"
      },
      "outputs": [],
      "source": [
        "class Node:\n",
        "    def __init__(self, item):\n",
        "        self.left = None\n",
        "        self.right = None\n",
        "        self.val = item"
      ]
    },
    {
      "cell_type": "code",
      "execution_count": 46,
      "metadata": {
        "id": "VexocgrCGsZW"
      },
      "outputs": [],
      "source": [
        "def inorder(root):\n",
        "\n",
        "    if root:\n",
        "        # Traverse left\n",
        "        inorder(root.left)\n",
        "        # Traverse root\n",
        "        print(str(root.val) + \">\", end='')\n",
        "        # Traverse right\n",
        "        inorder(root.right)\n",
        "\n",
        "\n",
        "def postorder(root):\n",
        "\n",
        "    if root:\n",
        "        # Traverse left\n",
        "        postorder(root.left)\n",
        "        # Traverse right\n",
        "        postorder(root.right)\n",
        "        # Traverse root\n",
        "        print(str(root.val) + \">\", end='')\n",
        "\n",
        "def preorder(root):\n",
        "\n",
        "    if root:\n",
        "        # Traverse root\n",
        "        print(str(root.val) + \">\", end='')\n",
        "        # Traverse left\n",
        "        preorder(root.left)\n",
        "        # Traverse right\n",
        "        preorder(root.right)"
      ]
    },
    {
      "cell_type": "markdown",
      "metadata": {
        "id": "Ex2BD9RzGsZY"
      },
      "source": [
        "#### 1. Construct Create your own company org chart and put yourself as CEO.\n",
        "\n",
        "Using a Tree data structure,\n",
        "\n",
        "- Assign yourself as CEO\n",
        "\n",
        "- Assign any of your classmate as HR Director\n",
        "- Assign any of your classmate as Sales Director\n",
        "\n",
        "- Assign any of your classmate as trainee. His/her boss is the HR Director\n",
        "- Assign any of your classmate as a staff and trainee. Their boss is the Sales Director\n"
      ]
    },
    {
      "cell_type": "markdown",
      "metadata": {
        "id": "vER4TbpIGsZZ"
      },
      "source": [
        "<img src=\"https://thumbs.dreamstime.com/z/cartoon-organization-chart-some-company-93778925.jpg\"/>"
      ]
    },
    {
      "cell_type": "code",
      "execution_count": 47,
      "metadata": {
        "id": "OwDjX4KVGsZa"
      },
      "outputs": [],
      "source": [
        "root = Node(\" CEO:Maria Bea \")\n",
        "root.right = Node(\" Sales:Aaron \")\n",
        "root.left = Node(\" HR:Calvin \")\n",
        "\n",
        "root.left.left = Node(\" Trainee:Mark \")\n",
        "root.right.left = Node(\" Staff:Marcelino \")\n",
        "root.right.right = Node (\" Trainee:Teej \")"
      ]
    },
    {
      "cell_type": "markdown",
      "metadata": {
        "id": "ZwHZGqxmGsZb"
      },
      "source": [
        "#### 2. Traverse the tree in in-order traversal"
      ]
    },
    {
      "cell_type": "code",
      "execution_count": 48,
      "metadata": {
        "id": "MroLPhL3GsZc",
        "outputId": "48fb40e5-ec8d-42bc-8f78-b79004ad903e",
        "colab": {
          "base_uri": "https://localhost:8080/"
        }
      },
      "outputs": [
        {
          "output_type": "stream",
          "name": "stdout",
          "text": [
            "Inorder traversal \n",
            " Trainee:Mark > HR:Calvin > CEO:Maria Bea > Staff:Marcelino > Sales:Aaron > Trainee:Teej >"
          ]
        }
      ],
      "source": [
        "print(\"Inorder traversal \")\n",
        "inorder(root)"
      ]
    },
    {
      "cell_type": "markdown",
      "metadata": {
        "id": "Kni5QNQUGsZd"
      },
      "source": [
        "#### 3. Traverse the tree in pre-order traversal"
      ]
    },
    {
      "cell_type": "code",
      "execution_count": 49,
      "metadata": {
        "id": "1vMjeM1EGsZe",
        "outputId": "0cf16ad1-57d4-4607-c4e5-46b10357781f",
        "colab": {
          "base_uri": "https://localhost:8080/"
        }
      },
      "outputs": [
        {
          "output_type": "stream",
          "name": "stdout",
          "text": [
            "\n",
            "Preorder traversal \n",
            " CEO:Maria Bea > HR:Calvin > Trainee:Mark > Sales:Aaron > Staff:Marcelino > Trainee:Teej >"
          ]
        }
      ],
      "source": [
        "print(\"\\nPreorder traversal \")\n",
        "preorder(root)"
      ]
    },
    {
      "cell_type": "markdown",
      "metadata": {
        "id": "fnZnN2tqGsZf"
      },
      "source": [
        "#### 4. Traverse the tree in post-order traversal"
      ]
    },
    {
      "cell_type": "code",
      "execution_count": 50,
      "metadata": {
        "id": "SU6qDNUUGsZf",
        "outputId": "188762a2-ac54-48c1-9150-4df80677045d",
        "colab": {
          "base_uri": "https://localhost:8080/"
        }
      },
      "outputs": [
        {
          "output_type": "stream",
          "name": "stdout",
          "text": [
            "\n",
            "Postorder traversal \n",
            " Trainee:Mark > HR:Calvin > Staff:Marcelino > Trainee:Teej > Sales:Aaron > CEO:Maria Bea >"
          ]
        }
      ],
      "source": [
        "print(\"\\nPostorder traversal \")\n",
        "postorder(root)"
      ]
    }
  ],
  "metadata": {
    "kernelspec": {
      "display_name": "Python 3",
      "language": "python",
      "name": "python3"
    },
    "language_info": {
      "codemirror_mode": {
        "name": "ipython",
        "version": 3
      },
      "file_extension": ".py",
      "mimetype": "text/x-python",
      "name": "python",
      "nbconvert_exporter": "python",
      "pygments_lexer": "ipython3",
      "version": "3.11.4"
    },
    "orig_nbformat": 4,
    "colab": {
      "provenance": []
    }
  },
  "nbformat": 4,
  "nbformat_minor": 0
}